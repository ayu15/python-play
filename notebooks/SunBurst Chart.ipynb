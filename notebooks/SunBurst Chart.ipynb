{
 "cells": [
  {
   "cell_type": "code",
   "execution_count": 12,
   "metadata": {},
   "outputs": [
    {
     "data": {
      "text/html": [
       "        <script type=\"text/javascript\">\n",
       "        window.PlotlyConfig = {MathJaxConfig: 'local'};\n",
       "        if (window.MathJax) {MathJax.Hub.Config({SVG: {font: \"STIX-Web\"}});}\n",
       "        if (typeof require !== 'undefined') {\n",
       "        require.undef(\"plotly\");\n",
       "        requirejs.config({\n",
       "            paths: {\n",
       "                'plotly': ['https://cdn.plot.ly/plotly-latest.min']\n",
       "            }\n",
       "        });\n",
       "        require(['plotly'], function(Plotly) {\n",
       "            window._Plotly = Plotly;\n",
       "        });\n",
       "        }\n",
       "        </script>\n",
       "        "
      ]
     },
     "metadata": {},
     "output_type": "display_data"
    }
   ],
   "source": [
    "import plotly\n",
    "import plotly.graph_objs as go\n",
    "plotly.offline.init_notebook_mode(connected=True)"
   ]
  },
  {
   "cell_type": "code",
   "execution_count": 33,
   "metadata": {},
   "outputs": [
    {
     "data": {
      "application/vnd.plotly.v1+json": {
       "config": {
        "linkText": "Export to plot.ly",
        "plotlyServerURL": "https://plot.ly",
        "responsive": true,
        "showLink": false
       },
       "data": [
        {
         "ids": [
          "Basics",
          "Front-end",
          "Back-end",
          "DevOps",
          "Data Science",
          "Git",
          "DS - Algo",
          "SSH",
          "HTTP/HTTPS",
          "Design Patterns",
          "Utils",
          "Angular",
          "React",
          "Ionic",
          "HTML",
          "CSS",
          "PWA",
          "RxJS",
          "MobX",
          "SASS",
          "Styled Components",
          "SEO",
          "Accessibility",
          "GraphQL",
          "Nodejs",
          "REST",
          "MongoDB",
          "PostgreSQL",
          "Ansible",
          "Docker",
          "Kubernetes",
          "Circle CI",
          "GCP",
          "Python",
          "Tensorflow",
          "Visualization",
          "Plotly",
          "D3.js"
         ],
         "labels": [
          "Basics",
          "Front-end",
          "Back-end",
          "DevOps",
          "Data Science",
          "Git",
          "DS - Algo",
          "SSH",
          "HTTP/HTTPS",
          "Design Patterns",
          "Utils",
          "Angular",
          "React",
          "Ionic",
          "HTML",
          "CSS",
          "PWA",
          "RxJS",
          "MobX",
          "SASS",
          "Styled Components",
          "SEO",
          "Accessibility",
          "GraphQL",
          "Nodejs",
          "REST",
          "MongoDB",
          "PostgreSQL",
          "Ansible",
          "Docker",
          "Kubernetes",
          "Circle CI",
          "GCP",
          "Python",
          "Tensorflow",
          "Visualization",
          "Plotly",
          "D3.js"
         ],
         "leaf": {
          "opacity": 0.7
         },
         "marker": {
          "line": {
           "width": 2
          }
         },
         "outsidetextfont": {
          "color": "#377eb8",
          "size": 20
         },
         "parents": [
          "",
          "",
          "",
          "",
          "",
          "Basics",
          "Basics",
          "Basics",
          "Basics",
          "Basics",
          "Front-end",
          "Front-end",
          "Front-end",
          "Front-end",
          "Front-end",
          "Front-end",
          "Front-end",
          "Utils",
          "Utils",
          "CSS",
          "CSS",
          "HTML",
          "HTML",
          "Back-end",
          "Back-end",
          "Back-end",
          "Back-end",
          "Back-end",
          "DevOps",
          "DevOps",
          "DevOps",
          "DevOps",
          "DevOps",
          "Data Science",
          "Data Science",
          "Data Science",
          "Visualization",
          "Visualization"
         ],
         "type": "sunburst",
         "uid": "ff6e69a5-9cfc-4811-8ca4-475f695a5135"
        }
       ],
       "layout": {
        "margin": {
         "b": 0,
         "l": 0,
         "r": 0,
         "t": 0
        },
        "sunburstcolorway": [
         "#636efa",
         "#ef553b",
         "#00cc96",
         "#B6E880",
         "#FF6692"
        ]
       }
      },
      "text/html": [
       "<div>\n",
       "        \n",
       "        \n",
       "            <div id=\"587aa7d5-7092-46b6-9767-350c282d4b88\" class=\"plotly-graph-div\" style=\"height:525px; width:100%;\"></div>\n",
       "            <script type=\"text/javascript\">\n",
       "                require([\"plotly\"], function(Plotly) {\n",
       "                    window.PLOTLYENV=window.PLOTLYENV || {};\n",
       "                    window.PLOTLYENV.BASE_URL='https://plot.ly';\n",
       "                    \n",
       "                if (document.getElementById(\"587aa7d5-7092-46b6-9767-350c282d4b88\")) {\n",
       "                    Plotly.newPlot(\n",
       "                        '587aa7d5-7092-46b6-9767-350c282d4b88',\n",
       "                        [{\"ids\": [\"Basics\", \"Front-end\", \"Back-end\", \"DevOps\", \"Data Science\", \"Git\", \"DS - Algo\", \"SSH\", \"HTTP/HTTPS\", \"Design Patterns\", \"Utils\", \"Angular\", \"React\", \"Ionic\", \"HTML\", \"CSS\", \"PWA\", \"RxJS\", \"MobX\", \"SASS\", \"Styled Components\", \"SEO\", \"Accessibility\", \"GraphQL\", \"Nodejs\", \"REST\", \"MongoDB\", \"PostgreSQL\", \"Ansible\", \"Docker\", \"Kubernetes\", \"Circle CI\", \"GCP\", \"Python\", \"Tensorflow\", \"Visualization\", \"Plotly\", \"D3.js\"], \"labels\": [\"Basics\", \"Front-end\", \"Back-end\", \"DevOps\", \"Data Science\", \"Git\", \"DS - Algo\", \"SSH\", \"HTTP/HTTPS\", \"Design Patterns\", \"Utils\", \"Angular\", \"React\", \"Ionic\", \"HTML\", \"CSS\", \"PWA\", \"RxJS\", \"MobX\", \"SASS\", \"Styled Components\", \"SEO\", \"Accessibility\", \"GraphQL\", \"Nodejs\", \"REST\", \"MongoDB\", \"PostgreSQL\", \"Ansible\", \"Docker\", \"Kubernetes\", \"Circle CI\", \"GCP\", \"Python\", \"Tensorflow\", \"Visualization\", \"Plotly\", \"D3.js\"], \"leaf\": {\"opacity\": 0.7}, \"marker\": {\"line\": {\"width\": 2}}, \"outsidetextfont\": {\"color\": \"#377eb8\", \"size\": 20}, \"parents\": [\"\", \"\", \"\", \"\", \"\", \"Basics\", \"Basics\", \"Basics\", \"Basics\", \"Basics\", \"Front-end\", \"Front-end\", \"Front-end\", \"Front-end\", \"Front-end\", \"Front-end\", \"Front-end\", \"Utils\", \"Utils\", \"CSS\", \"CSS\", \"HTML\", \"HTML\", \"Back-end\", \"Back-end\", \"Back-end\", \"Back-end\", \"Back-end\", \"DevOps\", \"DevOps\", \"DevOps\", \"DevOps\", \"DevOps\", \"Data Science\", \"Data Science\", \"Data Science\", \"Visualization\", \"Visualization\"], \"type\": \"sunburst\", \"uid\": \"ec1524b4-58dc-491e-a2b4-d55855a66768\"}],\n",
       "                        {\"margin\": {\"b\": 0, \"l\": 0, \"r\": 0, \"t\": 0}, \"sunburstcolorway\": [\"#636efa\", \"#ef553b\", \"#00cc96\", \"#B6E880\", \"#FF6692\"]},\n",
       "                        {\"showLink\": false, \"linkText\": \"Export to plot.ly\", \"plotlyServerURL\": \"https://plot.ly\", \"responsive\": true}\n",
       "                    ).then(function(){\n",
       "                            \n",
       "var gd = document.getElementById('587aa7d5-7092-46b6-9767-350c282d4b88');\n",
       "var x = new MutationObserver(function (mutations, observer) {{\n",
       "        var display = window.getComputedStyle(gd).display;\n",
       "        if (!display || display === 'none') {{\n",
       "            console.log([gd, 'removed!']);\n",
       "            Plotly.purge(gd);\n",
       "            observer.disconnect();\n",
       "        }}\n",
       "}});\n",
       "\n",
       "// Listen for the removal of the full notebook cells\n",
       "var notebookContainer = gd.closest('#notebook-container');\n",
       "if (notebookContainer) {{\n",
       "    x.observe(notebookContainer, {childList: true});\n",
       "}}\n",
       "\n",
       "// Listen for the clearing of the current output cell\n",
       "var outputEl = gd.closest('.output');\n",
       "if (outputEl) {{\n",
       "    x.observe(outputEl, {childList: true});\n",
       "}}\n",
       "\n",
       "                        })\n",
       "                };\n",
       "                });\n",
       "            </script>\n",
       "        </div>"
      ]
     },
     "metadata": {},
     "output_type": "display_data"
    }
   ],
   "source": [
    "labels = [\"Basics\",\"Front-end\",\"Back-end\",\"DevOps\",\"Data Science\",\"Git\",\"DS - Algo\",\"SSH\",\"HTTP/HTTPS\",\"Design Patterns\",\"Utils\",\"Angular\",\"React\",\"Ionic\",\"HTML\",\"CSS\",\"PWA\",\"RxJS\",\"MobX\",\"SASS\",\"Styled Components\",\"SEO\",\"Accessibility\",\"GraphQL\",\"Nodejs\",\"REST\",\"MongoDB\",\"PostgreSQL\",\"Ansible\",\"Docker\",\"Kubernetes\",\"Circle CI\",\"GCP\",\"Python\",\"Tensorflow\",\"Visualization\",\"Plotly\",\"D3.js\"]\n",
    "parents = [\"\",\"\",\"\",\"\",\"\",\"Basics\",\"Basics\",\"Basics\",\"Basics\",\"Basics\",\"Front-end\",\"Front-end\",\"Front-end\",\"Front-end\",\"Front-end\",\"Front-end\",\"Front-end\",\"Utils\",\"Utils\",\"CSS\",\"CSS\",\"HTML\",\"HTML\",\"Back-end\",\"Back-end\",\"Back-end\",\"Back-end\",\"Back-end\",\"DevOps\",\"DevOps\",\"DevOps\",\"DevOps\",\"DevOps\",\"Data Science\",\"Data Science\",\"Data Science\",\"Visualization\",\"Visualization\"]\n",
    "\n",
    "trace = go.Sunburst(\n",
    "  ids= labels,\n",
    "  labels=labels,\n",
    "  parents=parents,\n",
    "  outsidetextfont={\"size\": 20, \"color\": \"#377eb8\"},\n",
    "  leaf={\"opacity\": 0.7},\n",
    "  marker={\"line\": {\"width\": 2}}\n",
    ")\n",
    "\n",
    "layout = go.Layout(\n",
    "    margin = go.layout.Margin(t=0, l=0, r=0, b=0),\n",
    "    sunburstcolorway=[\"#636efa\",\"#ef553b\",\"#00cc96\", \"#B6E880\", \"#FF6692\"]\n",
    ")\n",
    "\n",
    "fig = go.Figure([trace], layout)\n",
    "\n",
    "plotly.offline.iplot(fig)"
   ]
  }
 ],
 "metadata": {
  "kernelspec": {
   "display_name": "Python 3",
   "language": "python",
   "name": "python3"
  },
  "language_info": {
   "codemirror_mode": {
    "name": "ipython",
    "version": 3
   },
   "file_extension": ".py",
   "mimetype": "text/x-python",
   "name": "python",
   "nbconvert_exporter": "python",
   "pygments_lexer": "ipython3",
   "version": "3.7.3"
  }
 },
 "nbformat": 4,
 "nbformat_minor": 2
}
